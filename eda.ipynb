{
 "cells": [
  {
   "cell_type": "code",
   "execution_count": 52,
   "metadata": {},
   "outputs": [],
   "source": [
    "import networkx as nx\n",
    "import matplotlib.pyplot as plt\n",
    "import pandas as pd\n",
    "import numpy as np\n",
    "from community import community_louvain"
   ]
  },
  {
   "cell_type": "code",
   "execution_count": 53,
   "metadata": {},
   "outputs": [],
   "source": [
    "def undirected(year):\n",
    "    G=nx.Graph()\n",
    "    df=pd.read_csv(f\"graphs/{year}.csv\")\n",
    "    for index, row in df.iterrows():\n",
    "        source=row[\"source\"]\n",
    "        target=row[\"target\"]\n",
    "        weight=float(row[f\"{year}\"])\n",
    "        if G.has_edge(row[\"source\"],row[\"target\"]):\n",
    "            G[source][target]['weight']+=weight\n",
    "        else:\n",
    "\n",
    "            G.add_edge(source,target,weight=weight)\n",
    "\n",
    "    return G\n",
    "\n"
   ]
  },
  {
   "cell_type": "code",
   "execution_count": null,
   "metadata": {},
   "outputs": [],
   "source": [
    "def degree_dist(year):\n",
    "    G=undirected(year)\n",
    "    degree_sequence = [sum(weight for _, _, weight in G.edges(node, data='weight')) for node in G.nodes()]\n",
    "    bin_edges = np.arange(0, max(degree_sequence) + 100001, 10000)\n",
    "    # Plot degree distribution\n",
    "    plt.figure(figsize=(10,5))\n",
    "    plt.hist(degree_sequence,bins=bin_edges, alpha=1,color='navy')\n",
    "    plt.xlabel('Degree (Trillion US$)')\n",
    "    plt.ylabel('Frequency')\n",
    "    plt.title(f'Degree Distribution {year}')\n",
    "    \n",
    "    plt.savefig(f\"Degree_dist/{year}\")"
   ]
  },
  {
   "cell_type": "code",
   "execution_count": null,
   "metadata": {},
   "outputs": [],
   "source": [
    "G=undirected(2019)\n",
    "i=G.edges(data='weight')\n",
    "for weight in i:\n",
    "    print(weight[2])"
   ]
  },
  {
   "cell_type": "code",
   "execution_count": null,
   "metadata": {},
   "outputs": [],
   "source": [
    "def avg_degree(year):\n",
    "    G=undirected(year)\n",
    "    total_degree = sum(weight for _, _, weight in G.edges(data='weight'))\n",
    "    num_nodes = G.number_of_nodes()\n",
    "    average_degree = total_degree / num_nodes\n",
    "\n",
    "    return average_degree\n",
    "\n",
    "    \n",
    "\n"
   ]
  },
  {
   "cell_type": "code",
   "execution_count": null,
   "metadata": {},
   "outputs": [],
   "source": [
    "def avg_cluster(year):\n",
    "    G=undirected(year)\n",
    "    return nx.average_clustering(G,weight='weight')\n",
    "    "
   ]
  },
  {
   "cell_type": "code",
   "execution_count": null,
   "metadata": {},
   "outputs": [],
   "source": [
    "x=[]\n",
    "y=[]\n",
    "for i in range(2000,2022):\n",
    "    x.append(i)\n",
    "    y.append(avg_cluster(i))\n",
    "plt.figure(figsize=(10,4))\n",
    "plt.plot(x,y,marker='o')\n",
    "plt.xlabel(\"Year\")\n",
    "plt.ylabel(\"Avg weighted clustering coefficient\")\n",
    "plt.title(\"Average weighted clustering coefficient over the years\")\n",
    "plt.savefig(\"Degree_dist/avg_cluster_plot\")\n"
   ]
  },
  {
   "cell_type": "code",
   "execution_count": null,
   "metadata": {},
   "outputs": [],
   "source": [
    "x=[]\n",
    "y=[]\n",
    "for i in range(2000,2022):\n",
    "    x.append(i)\n",
    "    y.append(avg_degree(i))\n",
    "plt.figure(figsize=(10,4))\n",
    "plt.plot(x,y,marker='o')\n",
    "plt.xlabel(\"Year\")\n",
    "plt.ylabel(\"Avg degree (Million US$)\")\n",
    "plt.title(\"Average weighted degree over the years\")\n",
    "plt.savefig(\"Degree_dist/avg_deg_plot\")\n"
   ]
  },
  {
   "cell_type": "code",
   "execution_count": null,
   "metadata": {},
   "outputs": [],
   "source": [
    "for i in [2000,2005,2010,2015,2020]:\n",
    "    degree_dist(i)"
   ]
  },
  {
   "cell_type": "code",
   "execution_count": 54,
   "metadata": {},
   "outputs": [
    {
     "name": "stdout",
     "output_type": "stream",
     "text": [
      "{'Aruba': 0, 'United Kingdom': 1, 'Panama': 0, 'Netherlands Antilles': 3, 'Netherlands': 1, 'Colombia': 3, 'Venezuela': 3, 'United States': 0, 'Germany': 1, 'France': 1, 'China': 4, 'Ireland': 1, 'Sweden': 1, 'Japan': 4, 'Costa Rica': 0, 'Spain': 1, 'Belgium': 1, 'Italy': 1, 'Mexico': 0, 'Brazil': 3, 'Peru': 3, 'Ecuador': 3, 'Canada': 0, 'Anguila': 0, 'Guyana': 0, 'Trinidad and Tobago': 0, 'Antigua and Barbuda': 0, 'Jamaica': 0, 'Other Asia, nes': 4, 'Hong Kong, China': 4, 'Korea, Rep.': 4, 'Australia': 4, 'Indonesia': 4, 'Gabon': 4, 'Barbados': 0, 'Albania': 1, 'Greece': 1, 'Serbia, FR(Serbia/Montenegro)': 1, 'Turkey': 1, 'Austria': 1, 'Bulgaria': 1, 'Russian Federation': 0, 'Switzerland': 0, 'Andorra': 1, 'Portugal': 1, 'United Arab Emirates': 4, 'India': 3, 'Iran, Islamic Rep.': 4, 'Singapore': 4, 'Argentina': 3, 'Chile': 3, 'Armenia': 1, 'Israel': 1, 'Belarus': 0, 'Ukraine': 0, 'New Zealand': 4, 'Saudi Arabia': 4, 'Azerbaijan': 1, 'Turkmenistan': 0, 'Georgia': 1, 'Burundi': 2, 'Kenya': 2, 'Rwanda': 2, 'Tanzania': 2, 'Uganda': 2, 'Saint Helena': 2, 'South Africa': 2, 'Pakistan': 4, 'Congo, Dem. Rep.': 2, 'Bahrain': 4, 'Benin': 3, 'Nigeria': 3, \"Cote d'Ivoire\": 1, 'Ghana': 3, 'Thailand': 4, 'Malaysia': 4, 'Burkina Faso': 3, 'Togo': 3, 'Niger': 3, 'Mali': 0, 'Bangladesh': 3, 'Kuwait': 4, 'Bahamas, The': 0, 'Bosnia and Herzegovina': 1, 'Croatia': 1, 'Slovenia': 1, 'Poland': 1, 'Belize': 0, 'Guatemala': 0, 'El Salvador': 0, 'Nicaragua': 0, 'Honduras': 0, 'Bolivia': 3, 'Bunkers': 3, 'Brunei': 4, 'Botswana': 1, 'Norway': 1, 'Zimbabwe': 2, 'Denmark': 1, 'Mozambique': 2, 'Zambia': 2, 'Central African Republic': 1, 'Cameroon': 1, 'Cook Islands': 4, 'Fiji': 4, 'Comoros': 2, 'Mauritius': 1, 'Yemen': 2, 'Madagascar': 1, 'Cape Verde': 1, 'Cuba': 1, 'Cyprus': 1, 'Lebanon': 1, 'Iraq': 3, 'Syrian Arab Republic': 1, 'Czech Republic': 1, 'Slovak Republic': 1, 'Dominica': 0, 'Special Categories': 1, 'Dominican Republic': 0, 'Haiti': 0, 'Algeria': 1, 'Egypt, Arab Rep.': 3, 'Eritrea': 4, 'Fm Sudan': 4, 'Estonia': 1, 'Finland': 1, 'Latvia': 1, 'Lithuania': 1, 'Ethiopia(excludes Eritrea)': 3, 'Djibouti': 3, 'European Union': 0, 'Faeroe Islands': 1, 'Micronesia, Fed. Sts.': 0, 'Guam': 0, 'Northern Mariana Islands': 0, 'Gambia, The': 3, 'Senegal': 3, 'Guinea-Bissau': 3, 'Grenada': 0, 'St. Lucia': 0, 'Greenland': 1, 'Iceland': 1, 'Hungary': 1, 'Jordan': 3, 'Free Zones': 3, 'Kazakhstan': 0, 'Bermuda': 0, 'Kyrgyz Republic': 0, 'Uzbekistan': 0, 'Cambodia': 4, 'Vietnam': 4, 'St. Kitts and Nevis': 0, 'Sri Lanka': 3, 'Lesotho': 0, 'Luxembourg': 1, 'Macao': 4, 'Morocco': 1, 'Moldova': 0, 'Romania': 1, 'Maldives': 4, 'North Macedonia': 1, 'Malta': 1, 'Mongolia': 4, 'Malawi': 2, 'Mauritania': 1, 'Montserrat': 0, 'Mayotte': 2, 'Namibia': 2, 'Angola': 2, 'New Caledonia': 4, 'Nepal': 3, 'Oman': 4, 'Philippines': 4, 'Papua New Guinea': 4, 'Paraguay': 3, 'Cayman Islands': 3, 'Uruguay': 3, 'French Polynesia': 4, 'Qatar': 4, 'Solomon Islands': 4, 'Korea, Dem. Rep.': 4, 'Sao Tome and Principe': 1, 'Suriname': 0, 'Eswatini': 2, 'Seychelles': 1, 'Turks and Caicos Isl.': 0, 'St. Vincent and the Grenadines': 0, 'Tonga': 4, 'American Samoa': 4, 'Tunisia': 1, 'Libya': 1, 'Wallis and Futura Isl.': 4, 'Samoa': 4}\n"
     ]
    }
   ],
   "source": [
    "G=undirected(2003)\n",
    "partition = community_louvain.best_partition(G, weight='weight')\n",
    "print(partition)\n",
    "cluster={}\n",
    "for k,v in partition.items():\n",
    "    if v not in cluster:\n",
    "        cluster[v]=[k]\n",
    "    else:\n",
    "        cluster[v].append(k)\n",
    "\n",
    "    "
   ]
  },
  {
   "cell_type": "code",
   "execution_count": 70,
   "metadata": {},
   "outputs": [],
   "source": [
    "All=['Aruba', 'United Kingdom', 'Curaçao', 'Netherlands', 'Colombia', 'Panama', 'United States', 'Venezuela', 'Germany', 'France', 'China', 'Ireland', 'Belgium', 'Mexico', 'Brazil', 'Spain', 'Ecuador', 'Costa Rica', 'Singapore', 'Free Zones', 'Japan', 'Canada', 'Afghanistan', 'India', 'Iraq', 'Kazakhstan', 'Pakistan', 'Uzbekistan', 'Iran, Islamic Rep.', 'Turkey', 'United Arab Emirates', 'Hong Kong, China', 'Switzerland', 'Saudi Arabia', 'Russian Federation', 'Italy', 'Korea, Rep.', 'Other Asia, nes', 'Indonesia', 'Angola', 'South Africa', 'Portugal', 'Botswana', 'Argentina', 'Albania', 'Greece', 'Malta', 'Serbia, FR(Serbia/Montenegro)', 'Bulgaria', 'Cyprus', 'Egypt, Arab Rep.', 'Bunkers', 'Cayman Islands', 'Romania', 'Bosnia and Herzegovina', 'Hungary', 'Andorra', 'Norway', 'Sweden', 'Denmark', 'Vietnam', 'Chile', 'Thailand', 'Armenia', 'Georgia', 'Belarus', 'Azerbaijan', 'Antigua and Barbuda', 'Barbados', 'Special Categories', 'Australia', 'Guyana', 'Trinidad and Tobago', 'Malaysia', 'Austria', 'Czech Republic', 'Poland', 'Slovak Republic', 'Israel', 'Burundi', 'Kenya', 'Tanzania', 'Uganda', 'Congo, Dem. Rep.', 'Rwanda', 'South Sudan', 'Benin', 'Nigeria', 'Togo', 'Bangladesh', \"Cote d'Ivoire\", 'Ghana', 'Burkina Faso', 'Mali', 'Niger', 'Bahrain', 'Qatar', 'Bahamas, The', 'Turks and Caicos Isl.', 'Croatia', 'Slovenia', 'Ukraine', 'Belize', 'Jamaica', 'Guatemala', 'El Salvador', 'Nicaragua', 'Honduras', 'Bermuda', 'Bolivia', 'Peru', 'Suriname', 'Gabon', 'Brunei', 'Namibia', 'Zambia', 'Central African Republic', 'Cameroon', 'Congo, Rep.', 'Heard Island and McDonald Isla', 'Comoros', 'Mauritius', 'Madagascar', 'Cape Verde', 'Liberia', 'Finland', 'Dominican Republic', 'Haiti', 'Algeria', 'Estonia', 'Lithuania', 'Latvia', 'Ethiopia(excludes Eritrea)', 'Kuwait', 'European Union', 'Fiji', 'New Zealand', 'Guinea', 'Gambia, The', 'Senegal', 'Guinea-Bissau', 'Grenada', 'Greenland', 'Iceland', 'Jordan', 'Kyrgyz Republic', 'Cambodia', 'Kiribati', 'East Timor', 'St. Kitts and Nevis', 'St. Lucia', 'Lebanon', 'Syrian Arab Republic', 'Libya', 'Sri Lanka', 'Lesotho', 'Eswatini', 'Mozambique', 'Luxembourg', 'Macao', 'Morocco', 'Moldova', 'Maldives', 'North Macedonia', 'Myanmar', 'Mongolia', 'Montenegro', 'Mauritania', 'Montserrat', 'Anguila', 'British Virgin Islands', 'Malawi', 'Nepal', 'Oman', 'Philippines', 'Palau', 'Guam', 'Paraguay', 'Occ.Pal.Terr', 'French Polynesia', 'Solomon Islands', 'Sierra Leone', 'Sao Tome and Principe', 'Sudan', 'Seychelles', 'Tajikistan', 'Turkmenistan', 'Tunisia', 'Uruguay', 'St. Vincent and the Grenadines', 'Dominica', 'Samoa', 'American Samoa', 'Zimbabwe']"
   ]
  },
  {
   "cell_type": "code",
   "execution_count": 74,
   "metadata": {},
   "outputs": [],
   "source": [
    "North_Am=['Aruba', 'Curaçao', 'Panama', 'United States', 'Venezuela', 'Canada', 'Mexico', 'Antigua and Barbuda', 'Barbados', 'Bahamas, The', 'Turks and Caicos Isl.', 'Cayman Islands', 'Bermuda', 'Jamaica', 'Guatemala', 'El Salvador', 'Nicaragua', 'Honduras', 'Dominican Republic', 'Haiti', 'Cuba', 'Costa Rica', 'Trinidad and Tobago', 'Guyana', 'Suriname', 'Belize', 'St. Kitts and Nevis', 'St. Lucia', 'Dominica', 'St. Vincent and the Grenadines', 'Grenada', 'Antigua and Barbuda', 'St. Vincent and the Grenadines']\n",
    "\n",
    "Europe=['United Kingdom', 'Netherlands', 'Germany', 'France', 'Ireland', 'Belgium', 'Spain', 'Switzerland', 'Italy', 'Norway', 'Sweden', 'Denmark', 'Portugal', 'Romania', 'Bosnia and Herzegovina', 'Hungary', 'Andorra', 'Finland', 'Serbia, FR(Serbia/Montenegro)', 'Bulgaria', 'Cyprus', 'Belarus', 'Latvia', 'Lithuania', 'Estonia', 'Moldova', 'North Macedonia', 'Luxembourg', 'Malta', 'San Marino', 'Monaco', 'Liechtenstein', 'Holy See']\n",
    "\n",
    "Asia=['China', 'Hong Kong, China', 'Turkey', 'United Arab Emirates', 'Korea, Rep.', 'Japan', 'Singapore', 'Iran, Islamic Rep.', 'Vietnam', 'Malaysia', 'Israel', 'Kazakhstan', 'Pakistan', 'Uzbekistan', 'Iraq', 'Thailand', 'Azerbaijan', 'Georgia', 'Armenia', 'Qatar', 'Lebanon', 'Oman', 'Kuwait', 'Jordan', 'Yemen, Rep.', 'Syrian Arab Republic', 'Tajikistan', 'Kyrgyz Republic', 'Turkmenistan', 'Bahrain', 'Afghanistan']\n",
    "South_Am=['Colombia', 'Ecuador', 'Brazil', 'Argentina', 'Chile', 'Peru', 'Bolivia', 'Paraguay', 'Uruguay', 'Guyana', 'Suriname', 'Venezuela']\n",
    "Africa=['South Africa', 'Angola', 'Nigeria', 'Tanzania', 'Kenya', 'Uganda', 'Congo, Dem. Rep.', 'Sudan', 'Ethiopia(excludes Eritrea)', 'Egypt, Arab Rep.', 'Ghana', \"Cote d'Ivoire\", 'Madagascar', 'Cameroon', 'Zambia', 'Niger', 'Mozambique', 'Morocco', 'Uzbekistan', 'Mali', 'Burkina Faso', 'Mauritania', 'Somalia', 'Central African Republic', 'Nepal', 'Chad', 'Zimbabwe', 'Botswana', 'Rwanda', 'Tunisia', 'Senegal', 'South Sudan', 'Gambia, The', 'Namibia', 'Eswatini', 'Lesotho', 'Guinea', 'Burundi', 'Sierra Leone', 'Togo', 'Libya', 'Djibouti', 'Guinea-Bissau', 'Equatorial Guinea', 'Comoros', 'Mauritius', 'Western Sahara', 'Cape Verde', 'Sao Tome and Principe', 'Seychelles', 'Eritrea', 'Saint Helena']\n",
    "Oceania=['Australia', 'New Zealand', 'Guam', 'French Polynesia', 'Fiji', 'Papua New Guinea', 'New Caledonia', 'Solomon Islands', 'Vanuatu', 'Samoa', 'Marshall Islands', 'Federated States of Micronesia', 'Palau', 'Kiribati', 'Tuvalu', 'Nauru', 'Cook Islands', 'Niue', 'Tokelau', 'American Samoa', 'Wallis and Futuna', 'Norfolk Island', 'Guam']\n"
   ]
  },
  {
   "cell_type": "code",
   "execution_count": 59,
   "metadata": {},
   "outputs": [],
   "source": [
    "def modularity(year):\n",
    "    G=undirected(year)\n",
    "    partition = community_louvain.best_partition(G, weight='weight')\n",
    "    cluster={}\n",
    "    for k,v in partition.items():\n",
    "        if v not in cluster:\n",
    "            cluster[v]=[k]\n",
    "        else:\n",
    "            cluster[v].append(k)\n",
    "\n",
    "    clusters=[value for key,value in cluster.items()]\n",
    "    mod=nx.community.modularity(G,clusters,weight='weight')\n",
    "    return mod\n",
    "\n",
    "        "
   ]
  },
  {
   "cell_type": "code",
   "execution_count": null,
   "metadata": {},
   "outputs": [],
   "source": [
    "\n",
    "    \n",
    "        "
   ]
  },
  {
   "cell_type": "code",
   "execution_count": 80,
   "metadata": {},
   "outputs": [],
   "source": [
    "\n",
    "def modularity2(year):\n",
    "    Na=[]\n",
    "    Sa=[]\n",
    "    As=[]\n",
    "    Ocea=[]\n",
    "    Eur=[]\n",
    "    Afri=[]\n",
    "    Rest=[]\n",
    "    def find_con(country):\n",
    "        if country in Asia:\n",
    "            As.append(country)\n",
    "        elif country in Europe:\n",
    "            Eur.append(country)\n",
    "        elif country in Africa:\n",
    "            Afri.append(country)\n",
    "        elif country in North_Am:\n",
    "            Na.append(country)\n",
    "        elif country in South_Am:\n",
    "            Sa.append(country)\n",
    "        elif country in Oceania:\n",
    "            Ocea.append(country)\n",
    "        else:\n",
    "            Rest.append(country)\n",
    "            \n",
    "            \n",
    "\n",
    "    \n",
    "    G=undirected(year)\n",
    "    l=G.nodes()\n",
    "    for co in l:\n",
    "       \n",
    "        find_con(co)\n",
    "            \n",
    "\n",
    "    clusters=[Na, Eur, As, Sa, Afri, Ocea,Rest]\n",
    "    # for i in range(len(clusters)):\n",
    "    #     for j in clusters[i]:\n",
    "    #         if not G.has_node(j):\n",
    "    #             clusters[i].remove(j)\n",
    "\n",
    "    mod=nx.community.modularity(G,clusters,weight='weight')\n",
    "    return mod\n"
   ]
  },
  {
   "cell_type": "code",
   "execution_count": 60,
   "metadata": {},
   "outputs": [
    {
     "data": {
      "text/plain": [
       "0.4126228591863474"
      ]
     },
     "execution_count": 60,
     "metadata": {},
     "output_type": "execute_result"
    }
   ],
   "source": [
    "modularity(2006)"
   ]
  },
  {
   "cell_type": "code",
   "execution_count": 83,
   "metadata": {},
   "outputs": [
    {
     "data": {
      "image/png": "[encoded data removed]",
      "text/plain": [
       "<Figure size 1000x400 with 1 Axes>"
      ]
     },
     "metadata": {},
     "output_type": "display_data"
    }
   ],
   "source": [
    "x=[]\n",
    "y=[]\n",
    "z=[]\n",
    "for i in range(2000,2022):\n",
    "    x.append(i)\n",
    "    y.append(modularity(i))\n",
    "    z.append(modularity2(i))\n",
    "plt.figure(figsize=(10,4))\n",
    "plt.plot(x,y,marker='o',label=\"louvain partitioning\")\n",
    "plt.plot(x,z,marker='o',label=\"Continent partitioning\")\n",
    "plt.xlabel(\"Year\")\n",
    "plt.ylabel(\"Modularity\")\n",
    "plt.legend()\n",
    "plt.title(\"Modularity over the years with continents as partitions\")\n",
    "plt.savefig(\"Degree_dist/modularity\")"
   ]
  }
 ],
 "metadata": {
  "kernelspec": {
   "display_name": "Python 3",
   "language": "python",
   "name": "python3"
  },
  "language_info": {
   "codemirror_mode": {
    "name": "ipython",
    "version": 3
   },
   "file_extension": ".py",
   "mimetype": "text/x-python",
   "name": "python",
   "nbconvert_exporter": "python",
   "pygments_lexer": "ipython3",
   "version": "3.11.2"
  }
 },
 "nbformat": 4,
 "nbformat_minor": 2
}
