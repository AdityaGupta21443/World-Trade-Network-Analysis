{
 "cells": [
  {
   "cell_type": "code",
   "execution_count": null,
   "metadata": {},
   "outputs": [],
   "source": [
    "import networkx as nx\n",
    "import pandas as pd\n",
    "from community import community_louvain\n",
    "import json\n",
    "import pprint\n",
    "import numpy as np\n",
    "import matplotlib.pyplot as plt\n"
   ]
  },
  {
   "cell_type": "code",
   "execution_count": null,
   "metadata": {},
   "outputs": [],
   "source": [
    "North_Am=['Aruba', 'Curaçao', 'Panama', 'United States', 'Venezuela', 'Canada', 'Mexico', 'Antigua and Barbuda', 'Barbados', 'Bahamas, The', 'Turks and Caicos Isl.', 'Cayman Islands', 'Bermuda', 'Jamaica', 'Guatemala', 'El Salvador', 'Nicaragua', 'Honduras', 'Dominican Republic', 'Haiti', 'Cuba', 'Costa Rica', 'Trinidad and Tobago', 'Guyana', 'Suriname', 'Belize', 'St. Kitts and Nevis', 'St. Lucia', 'Dominica', 'St. Vincent and the Grenadines', 'Grenada', 'Antigua and Barbuda', 'St. Vincent and the Grenadines']\n",
    "\n",
    "Europe=['United Kingdom', 'Netherlands', 'Germany', 'France', 'Ireland', 'Belgium', 'Spain', 'Switzerland', 'Italy', 'Norway', 'Sweden', 'Denmark', 'Portugal', 'Romania', 'Bosnia and Herzegovina', 'Hungary', 'Andorra', 'Finland', 'Serbia, FR(Serbia/Montenegro)', 'Bulgaria', 'Cyprus', 'Belarus', 'Latvia', 'Lithuania', 'Estonia', 'Moldova', 'North Macedonia', 'Luxembourg', 'Malta', 'San Marino', 'Monaco', 'Liechtenstein', 'Holy See']\n",
    "\n",
    "Asia=['China', 'Hong Kong, China', 'Turkey', 'United Arab Emirates', 'Korea, Rep.', 'Japan', 'Singapore', 'Iran, Islamic Rep.', 'Vietnam', 'Malaysia', 'Israel', 'Kazakhstan', 'Pakistan', 'Uzbekistan', 'Iraq', 'Thailand', 'Azerbaijan', 'Georgia', 'Armenia', 'Qatar', 'Lebanon', 'Oman', 'Kuwait', 'Jordan', 'Yemen, Rep.', 'Syrian Arab Republic', 'Tajikistan', 'Kyrgyz Republic', 'Turkmenistan', 'Bahrain', 'Afghanistan']\n",
    "South_Am=['Colombia', 'Ecuador', 'Brazil', 'Argentina', 'Chile', 'Peru', 'Bolivia', 'Paraguay', 'Uruguay', 'Guyana', 'Suriname', 'Venezuela']\n",
    "Africa=['South Africa', 'Angola', 'Nigeria', 'Tanzania', 'Kenya', 'Uganda', 'Congo, Dem. Rep.', 'Sudan', 'Ethiopia(excludes Eritrea)', 'Egypt, Arab Rep.', 'Ghana', \"Cote d'Ivoire\", 'Madagascar', 'Cameroon', 'Zambia', 'Niger', 'Mozambique', 'Morocco', 'Uzbekistan', 'Mali', 'Burkina Faso', 'Mauritania', 'Somalia', 'Central African Republic', 'Nepal', 'Chad', 'Zimbabwe', 'Botswana', 'Rwanda', 'Tunisia', 'Senegal', 'South Sudan', 'Gambia, The', 'Namibia', 'Eswatini', 'Lesotho', 'Guinea', 'Burundi', 'Sierra Leone', 'Togo', 'Libya', 'Djibouti', 'Guinea-Bissau', 'Equatorial Guinea', 'Comoros', 'Mauritius', 'Western Sahara', 'Cape Verde', 'Sao Tome and Principe', 'Seychelles', 'Eritrea', 'Saint Helena']\n",
    "Oceania=['Australia', 'New Zealand', 'Guam', 'French Polynesia', 'Fiji', 'Papua New Guinea', 'New Caledonia', 'Solomon Islands', 'Vanuatu', 'Samoa', 'Marshall Islands', 'Federated States of Micronesia', 'Palau', 'Kiribati', 'Tuvalu', 'Nauru', 'Cook Islands', 'Niue', 'Tokelau', 'American Samoa', 'Wallis and Futuna', 'Norfolk Island', 'Guam']\n"
   ]
  },
  {
   "cell_type": "code",
   "execution_count": null,
   "metadata": {},
   "outputs": [],
   "source": [
    "def directed(year):\n",
    "    G=nx.DiGraph()\n",
    "    df=pd.read_csv(f\"graphs/{year}.csv\")\n",
    "    for index,row in df.iterrows():\n",
    "        G.add_edge(row[\"source\"],row[\"target\"],weight=float(row[f\"{year}\"]))\n",
    "\n",
    "    return G\n"
   ]
  },
  {
   "cell_type": "code",
   "execution_count": null,
   "metadata": {},
   "outputs": [],
   "source": [
    "G=directed(2003)\n",
    "print(G.edges(data=True))"
   ]
  },
  {
   "cell_type": "code",
   "execution_count": null,
   "metadata": {},
   "outputs": [],
   "source": [
    "def undirected(year):\n",
    "    G=nx.Graph()\n",
    "    df=pd.read_csv(f\"graphs/{year}.csv\")\n",
    "    for index, row in df.iterrows():\n",
    "        source=row[\"source\"]\n",
    "        target=row[\"target\"]\n",
    "        weight=float(row[f\"{year}\"])\n",
    "        if G.has_edge(row[\"source\"],row[\"target\"]):\n",
    "            G[source][target]['weight']+=weight\n",
    "        else:\n",
    "\n",
    "            G.add_edge(source,target,weight=weight)\n",
    "\n",
    "    return G\n",
    "\n"
   ]
  },
  {
   "cell_type": "markdown",
   "metadata": {},
   "source": [
    "China's introduction to WTO"
   ]
  },
  {
   "cell_type": "code",
   "execution_count": null,
   "metadata": {},
   "outputs": [],
   "source": [
    "x=[]\n",
    "y=[]\n",
    "\n",
    "for i in range(1993,2010):\n",
    "    G=undirected(i)\n",
    "    degree=sum([ G[\"China\"][n]['weight'] for n in G.neighbors(\"China\") ])\n",
    "    x.append(i)\n",
    "    y.append(degree)\n",
    "plt.figure(figsize=(10,5))\n",
    "plt.plot(x,y,marker='o')\n",
    "plt.xlabel('year')\n",
    "plt.ylabel('Degree (trillion US$)')\n",
    "plt.title('Degree over the years')\n",
    "plt.savefig('world_events/china_dist')\n"
   ]
  },
  {
   "cell_type": "code",
   "execution_count": null,
   "metadata": {},
   "outputs": [],
   "source": [
    "x=[]\n",
    "y=[]\n",
    "for i in range(1993,2022):\n",
    "    G=undirected(i)\n",
    "    clus=nx.clustering(G,\"China\")\n",
    "    x.append(i)\n",
    "    y.append(clus)\n",
    "plt.figure(figsize=(10,5))\n",
    "plt.plot(x,y,marker='o')\n",
    "plt.xlabel('year')\n",
    "plt.ylabel('Clustering coefficient')\n",
    "plt.title(\"China's clustering coefficient over the years\")\n",
    "plt.savefig('world_events/china_clus')\n"
   ]
  },
  {
   "cell_type": "code",
   "execution_count": null,
   "metadata": {},
   "outputs": [],
   "source": [
    "imports=[]\n",
    "exports=[]\n",
    "\n",
    "for i in range(1993,2010):\n",
    "    G=directed(i)\n",
    "    in_deg=G.in_degree(\"China\",weight='weight')\n",
    "    out_deg=G.out_degree(\"China\",weight='weight')\n",
    "    imports.append(in_deg)\n",
    "    exports.append(out_deg)\n",
    "\n",
    "X_axis = np.arange(len(range(1993,2010))) \n",
    "plt.figure(figsize=(10,5))\n",
    "plt.bar(X_axis - 0.2, imports, 0.4, label = 'indegree') \n",
    "plt.bar(X_axis + 0.2, exports, 0.4, label = 'outdegree')\n",
    "plt.xticks(X_axis, range(1993,2010)) \n",
    "plt.xlabel(\"year\") \n",
    "plt.ylabel(\"Degree \") \n",
    "plt.title(\"Indegree vs Outdegree of China\") \n",
    "plt.legend() \n",
    "plt.show()  "
   ]
  },
  {
   "cell_type": "code",
   "execution_count": null,
   "metadata": {},
   "outputs": [],
   "source": [
    "\n",
    "\n"
   ]
  },
  {
   "cell_type": "markdown",
   "metadata": {},
   "source": [
    "2008 Recession"
   ]
  },
  {
   "cell_type": "markdown",
   "metadata": {},
   "source": [
    "Continent wise net degree"
   ]
  },
  {
   "cell_type": "code",
   "execution_count": null,
   "metadata": {},
   "outputs": [],
   "source": [
    "regions = {\n",
    "    'North America': North_Am,\n",
    "    'Europe': Europe,\n",
    "    'Asia': Asia,\n",
    "    'South America': South_Am,\n",
    "    'Africa': Africa,\n",
    "    'Oceania': Oceania\n",
    "}\n",
    "\n",
    "points = {\n",
    "    'North America':[],\n",
    "    'Europe': [],\n",
    "    'Asia': [],\n",
    "    'South America': [],\n",
    "    'Africa': [],\n",
    "    'Oceania': []\n",
    "}\n",
    "\n",
    "\n",
    "for i in range(2005,2011):\n",
    "    G=undirected(i)\n",
    "    for key in regions.keys():\n",
    "        g=nx.subgraph(G,regions[key])\n",
    "        total_degree = sum(weight for _, _, weight in g.edges(data='weight'))\n",
    "        points[key].append(total_degree)\n",
    "\n",
    "print(points)\n",
    "\n",
    "\n",
    "\n",
    "    \n",
    "    "
   ]
  },
  {
   "cell_type": "code",
   "execution_count": null,
   "metadata": {},
   "outputs": [],
   "source": [
    "plt.figure(figsize=(10,5))\n",
    "plt.plot(list(range(2005,2011)),points['Asia'],label='Asia')\n",
    "\n",
    "plt.plot(list(range(2005,2011)),points['Europe'],label='Europe')\n",
    "\n",
    "plt.plot(list(range(2005,2011)),points['North America'],label='North America')\n",
    "\n",
    "plt.plot(list(range(2005,2011)),points['South America'],label='South America')\n",
    "\n",
    "plt.plot(list(range(2005,2011)),points['Africa'],label='Africa')\n",
    "\n",
    "plt.plot(list(range(2005,2011)),points['Oceania'],label='Oceania')\n",
    "plt.title(\"Net degree for every continent\")\n",
    "plt.xlabel(\"year\")\n",
    "plt.ylabel(\"Net degree (Trillion US$)\")\n",
    "plt.legend()\n",
    "plt.savefig(\"world_events/continent_2008\")\n"
   ]
  },
  {
   "cell_type": "markdown",
   "metadata": {},
   "source": [
    "Betweenness of USA, European Union, China"
   ]
  },
  {
   "cell_type": "code",
   "execution_count": null,
   "metadata": {},
   "outputs": [],
   "source": [
    "China=[]\n",
    "United_states=[]\n",
    "United_kingdom=[]\n",
    "Germany=[]\n",
    "Japan=[]\n",
    "\n",
    "for i in range(2000,2017):\n",
    "    G=undirected(i)\n",
    "    betweenness_centrality = nx.betweenness_centrality(G, weight='weight')\n",
    "    China.append(betweenness_centrality[\"China\"])\n",
    "    United_states.append(betweenness_centrality[\"United States\"])\n",
    "    United_kingdom.append(betweenness_centrality[\"United Kingdom\"])\n",
    "    Germany.append(betweenness_centrality[\"Germany\"])\n",
    "    Japan.append(betweenness_centrality[\"Japan\"])\n",
    "\n",
    "    \n",
    "\n",
    "    \n",
    "plt.figure(figsize=(10,5))\n",
    "plt.plot(range(2000,2017),China,label='China')\n",
    "plt.plot(range(2000,2017),United_states,label='United States')\n",
    "plt.plot(range(2000,2017),United_kingdom,label='United Kingdom')\n",
    "plt.plot(range(2000,2017),Germany,label='Germany')\n",
    "plt.plot(range(2000,2017),Japan,label='Japan')\n",
    "\n",
    "\n",
    "\n",
    "\n",
    "plt.legend()\n",
    "plt.savefig(\"world_events/betweenness_comp_2008\")\n",
    "# plt.show()\n",
    "\n",
    "    \n",
    "    "
   ]
  },
  {
   "cell_type": "markdown",
   "metadata": {},
   "source": [
    "Brexit "
   ]
  },
  {
   "cell_type": "code",
   "execution_count": 63,
   "metadata": {},
   "outputs": [
    {
     "data": {
      "image/png": "[encoded data removed]",
      "text/plain": [
       "<Figure size 640x480 with 1 Axes>"
      ]
     },
     "metadata": {},
     "output_type": "display_data"
    }
   ],
   "source": [
    "points_uk=[]\n",
    "points_eu=[]\n",
    "\n",
    "for i in range(2009,2021):\n",
    "    G=undirected(i)\n",
    "    degree1=sum(G['United Kingdom'][n]['weight'] for n in G.neighbors('United Kingdom'))\n",
    "    degree2=sum(G['European Union'][n]['weight'] for n in G.neighbors('European Union'))\n",
    "    points_uk.append(degree1)\n",
    "    points_eu.append(degree2)\n",
    "\n",
    "plt.plot(range(2009,2021),points_uk,label='UK')\n",
    "plt.plot(range(2009,2021),points_eu,label='EU')\n",
    "plt.legend()\n",
    "plt.xlabel('Year')\n",
    "plt.ylabel('Net degree (Trillion US$)')\n",
    "plt.title('Comparing net trade for EU and UK')\n",
    "plt.savefig('world_events/Brexit')\n"
   ]
  }
 ],
 "metadata": {
  "kernelspec": {
   "display_name": "Python 3",
   "language": "python",
   "name": "python3"
  },
  "language_info": {
   "codemirror_mode": {
    "name": "ipython",
    "version": 3
   },
   "file_extension": ".py",
   "mimetype": "text/x-python",
   "name": "python",
   "nbconvert_exporter": "python",
   "pygments_lexer": "ipython3",
   "version": "3.11.2"
  }
 },
 "nbformat": 4,
 "nbformat_minor": 2
}
